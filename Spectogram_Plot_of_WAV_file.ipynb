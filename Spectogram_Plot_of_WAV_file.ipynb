{
 "cells": [
  {
   "cell_type": "code",
   "execution_count": null,
   "id": "bc778149-1821-47ad-812f-eca2d9e8b3ac",
   "metadata": {},
   "outputs": [],
   "source": [
    "import wave\n",
    "import numpy as np\n",
    "import matplotlib.pyplot as plt\n",
    "from scipy.io import wavfile\n",
    "import os\n",
    "import librosa\n",
    "\n",
    "# Load the wav file using scipy\n"
   ]
  },
  {
   "cell_type": "code",
   "execution_count": null,
   "id": "14322a4c-1e78-43d2-8d89-70b3720c8690",
   "metadata": {},
   "outputs": [],
   "source": [
    "def wav_to_pcm_librosa(wav_file, sample_rate=44100):\n",
    "    # Load the wav file using librosa\n",
    "    data, sr = librosa.load(wav_file, sr=sample_rate, mono=True)  # Downmix to mono\n",
    "    \n",
    "    # Normalize and convert to 16-bit PCM format\n",
    "    pcm_data = np.int16(data / np.max(np.abs(data)) * 32767)  # Scaling to 16-bit\n",
    "    return pcm_data"
   ]
  },
  {
   "cell_type": "code",
   "execution_count": 3,
   "id": "e54d072d-4a20-4836-8d6a-3e27edd9ac0e",
   "metadata": {},
   "outputs": [],
   "source": [
    "# Convert Here .wav to .pcm"
   ]
  },
  {
   "cell_type": "code",
   "execution_count": null,
   "id": "868bba55-8df9-412d-bdad-e848fca4580f",
   "metadata": {},
   "outputs": [],
   "source": [
    "def Get_Spectogram_Values(pcm_data):\n",
    "    sample_rate = 16000  # or the actual sample rate of your file\n",
    "    bit_depth = 16       # bits per sample (16 for standard PCM)\n",
    "    n_channels = 1 \n",
    "    # with open(pcm_path, 'rb') as pcmfile:\n",
    "    #     pcm_data = np.frombuffer(pcmfile.read(), dtype=np.int16)\n",
    "    audio_data = pcm_data.astype(np.float32) / np.iinfo(np.int16).max\n",
    "\n",
    "    # mel_spec = np.mean(librosa.feature.melspectrogram(y=audio_data, sr=sample_rate).T, axis=0)\n",
    "    mel_spec = librosa.feature.melspectrogram(y=audio_data, sr=sample_rate).T\n",
    "    # mel_spec = mel_spec[:120]\n",
    "    return mel_spec"
   ]
  },
  {
   "cell_type": "code",
   "execution_count": null,
   "id": "7bcec629-008c-4e7b-9242-1179b402a4c1",
   "metadata": {},
   "outputs": [],
   "source": [
    "def plot_mel_features(mel_spec):\n",
    "    spec_val = mel_spec\n",
    "    mel_spectrogram_db = librosa.power_to_db(spec_val, ref=np.max)\n",
    "    average_energy = np.mean(mel_spectrogram_db, axis=0)  # Average over the frequency axis\n",
    "    \n",
    "    # Plot the average energy as a line plot\n",
    "    plt.figure(figsize=(12, 4))\n",
    "    plt.plot(average_energy, color='blue', linewidth=1.5)  # Line plot with blue color\n",
    "    plt.title(\"Average Mel Spectrogram Energy Over Time\")\n",
    "    plt.xlabel(\"Normal_2\")\n",
    "    plt.ylabel(\"Average Energy (dB)\")\n",
    "    plt.grid(visible=True, linestyle='--', alpha=0.5)  # Add a light grid for better readability\n",
    "    plt.tight_layout()  # Adjust layout to fit the plot nicely\n",
    "    plt.show()"
   ]
  },
  {
   "cell_type": "code",
   "execution_count": null,
   "id": "ecb653ca-88db-49c7-a16f-b7d5a3b8568e",
   "metadata": {},
   "outputs": [],
   "source": [
    "def Get_and_Plot(PCM_Data):\n",
    "    # path = f\"BG_PCM/{pcm_path}\"\n",
    "    spec_val = Get_Spectogram_Values(PCM_Data)\n",
    "    plot_mel_features(spec_val)"
   ]
  },
  {
   "cell_type": "code",
   "execution_count": null,
   "id": "03004040",
   "metadata": {},
   "outputs": [],
   "source": [
    "pcm_data = wav_to_pcm_librosa('normal_11.wav')\n",
    "Get_and_Plot(pcm_data)"
   ]
  },
  {
   "cell_type": "code",
   "execution_count": null,
   "id": "15965e56",
   "metadata": {},
   "outputs": [],
   "source": []
  }
 ],
 "metadata": {
  "kernelspec": {
   "display_name": "Python 3 (ipykernel)",
   "language": "python",
   "name": "python3"
  },
  "language_info": {
   "codemirror_mode": {
    "name": "ipython",
    "version": 3
   },
   "file_extension": ".py",
   "mimetype": "text/x-python",
   "name": "python",
   "nbconvert_exporter": "python",
   "pygments_lexer": "ipython3",
   "version": "3.10.0"
  }
 },
 "nbformat": 4,
 "nbformat_minor": 5
}
