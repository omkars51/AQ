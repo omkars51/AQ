{
 "cells": [
  {
   "cell_type": "code",
   "execution_count": 1,
   "id": "bc778149-1821-47ad-812f-eca2d9e8b3ac",
   "metadata": {},
   "outputs": [],
   "source": [
    "import wave\n",
    "import numpy as np\n",
    "import matplotlib.pyplot as plt\n",
    "from scipy.io import wavfile\n",
    "import os\n",
    "import librosa\n",
    "\n",
    "# Load the wav file using scipy\n"
   ]
  },
  {
   "cell_type": "code",
   "execution_count": 2,
   "id": "14322a4c-1e78-43d2-8d89-70b3720c8690",
   "metadata": {},
   "outputs": [],
   "source": [
    "def wav_to_pcm_librosa(wav_file, pcm_file, sample_rate=44100):\n",
    "    # Load the wav file using librosa\n",
    "    data, sr = librosa.load(wav_file, sr=sample_rate, mono=True)  # Downmix to mono\n",
    "    \n",
    "    # Normalize and convert to 16-bit PCM format\n",
    "    pcm_data = np.int16(data / np.max(np.abs(data)) * 32767)  # Scaling to 16-bit\n",
    "    \n",
    "    # Save to PCM file\n",
    "    pcm_data.tofile(pcm_file)\n",
    "    print(f\"PCM file saved as {pcm_file}\")"
   ]
  },
  {
   "cell_type": "code",
   "execution_count": 3,
   "id": "e54d072d-4a20-4836-8d6a-3e27edd9ac0e",
   "metadata": {},
   "outputs": [],
   "source": [
    "# Convert Here .wav to .pcm"
   ]
  },
  {
   "cell_type": "code",
   "execution_count": 4,
   "id": "868bba55-8df9-412d-bdad-e848fca4580f",
   "metadata": {},
   "outputs": [],
   "source": [
    "def Get_Spectogram_Values(pcm_path):\n",
    "    sample_rate = 16000  # or the actual sample rate of your file\n",
    "    bit_depth = 16       # bits per sample (16 for standard PCM)\n",
    "    n_channels = 1 \n",
    "    with open(pcm_path, 'rb') as pcmfile:\n",
    "        pcm_data = np.frombuffer(pcmfile.read(), dtype=np.int16)\n",
    "    audio_data = pcm_data.astype(np.float32) / np.iinfo(np.int16).max\n",
    "\n",
    "    # mel_spec = np.mean(librosa.feature.melspectrogram(y=audio_data, sr=sample_rate).T, axis=0)\n",
    "    mel_spec = librosa.feature.melspectrogram(y=audio_data, sr=sample_rate).T\n",
    "    # mel_spec = mel_spec[:120]\n",
    "    return mel_spec"
   ]
  },
  {
   "cell_type": "code",
   "execution_count": 5,
   "id": "7bcec629-008c-4e7b-9242-1179b402a4c1",
   "metadata": {},
   "outputs": [],
   "source": [
    "def plot_mel_features(mel_spec):\n",
    "    plt.figure(figsize=(12, 6))\n",
    "    \n",
    "    # Line plot\n",
    "    plt.subplot(1, 2, 1)\n",
    "    plt.plot(mel_spec)\n",
    "    plt.title('Mel Spectrogram Features - Line Plot')\n",
    "    plt.xlabel('Mel Frequency Band Index')\n",
    "    plt.ylabel('Energy (dB)')\n",
    "    \n",
    "    # Heatmap visualization\n",
    "    plt.subplot(1, 2, 2)\n",
    "    plt.imshow([mel_spec], aspect='auto', cmap='viridis')\n",
    "    plt.colorbar(label='Energy (dB)')\n",
    "    plt.title('Mel Spectrogram Features - Heatmap')\n",
    "    plt.xlabel('Mel Frequency Band Index')\n",
    "    \n",
    "    plt.tight_layout()\n",
    "    plt.show()"
   ]
  },
  {
   "cell_type": "code",
   "execution_count": 6,
   "id": "ecb653ca-88db-49c7-a16f-b7d5a3b8568e",
   "metadata": {},
   "outputs": [],
   "source": [
    "def Get_and_Plot(pcm_path):\n",
    "    # path = f\"BG_PCM/{pcm_path}\"\n",
    "    spec_val = Get_Spectogram_Values(pcm_path)\n",
    "    plot_mel_features(spec_val)"
   ]
  }
 ],
 "metadata": {
  "kernelspec": {
   "display_name": "Python 3 (ipykernel)",
   "language": "python",
   "name": "python3"
  },
  "language_info": {
   "codemirror_mode": {
    "name": "ipython",
    "version": 3
   },
   "file_extension": ".py",
   "mimetype": "text/x-python",
   "name": "python",
   "nbconvert_exporter": "python",
   "pygments_lexer": "ipython3",
   "version": "3.10.0"
  }
 },
 "nbformat": 4,
 "nbformat_minor": 5
}
